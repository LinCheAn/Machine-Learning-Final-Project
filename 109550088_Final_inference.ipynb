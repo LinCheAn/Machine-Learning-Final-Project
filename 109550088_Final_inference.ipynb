{
 "cells": [
  {
   "cell_type": "code",
   "execution_count": 5,
   "metadata": {},
   "outputs": [],
   "source": [
    "import pandas as pd \n",
    "import numpy as np\n",
    "import joblib\n",
    "from sklearn.ensemble import RandomForestClassifier, RandomForestRegressor, AdaBoostClassifier\n",
    "from sklearn.model_selection import GroupKFold, StratifiedKFold\n",
    "from sklearn.metrics import roc_curve, roc_auc_score\n",
    "from sklearn.preprocessing import StandardScaler\n",
    "from sklearn.linear_model import LogisticRegression\n",
    "from sklearn.pipeline import make_pipeline\n",
    "from sklearn.impute import SimpleImputer\n",
    "\n",
    "test_pred = []\n",
    "train = pd.read_csv('train.csv', index_col='id')\n",
    "test = pd.read_csv('test.csv', index_col='id')\n",
    "X_test = test.copy()\n",
    "#add a column which recode the missing of measurement_5\n",
    "X_test['m_5_missing'] = X_test.measurement_5.isna()\n",
    "\n",
    "#impute the missing block\n",
    "features = []\n",
    "for feature in X_test.columns:\n",
    "    if feature == 'loading' or feature.startswith('measurement'):\n",
    "        features.append(feature)\n",
    "imputer = SimpleImputer(strategy = \"most_frequent\")\n",
    "imputer.fit(X_test[features])\n",
    "for df in [X_test]:\n",
    "    df[features] = imputer.transform(df[features])\n",
    "\n",
    "#encode the attributes\n",
    "encode_attributes = ['attribute_0', 'attribute_1']  \n",
    "for df in [X_test]:\n",
    "    code_list = []\n",
    "    dfA_list = df['attribute_0'].values\n",
    "    dfB_list = df['attribute_1'].values\n",
    "    for itemidx in range(len(dfA_list)):\n",
    "        if dfA_list[itemidx] == 'material_5' or dfB_list[itemidx] == 'material_5':\n",
    "            code_list.append(True)\n",
    "        else:\n",
    "            code_list.append(False)\n",
    "    df['material_5'] = code_list\n",
    "for df in [X_test]:\n",
    "    code_list = []\n",
    "    dfA_list = df['attribute_0'].values\n",
    "    dfB_list = df['attribute_1'].values\n",
    "    for itemidx in range(len(dfA_list)):\n",
    "        if dfA_list[itemidx] == 'material_7' or dfB_list[itemidx] == 'material_7':\n",
    "            code_list.append(True)\n",
    "        else:\n",
    "            code_list.append(False)\n",
    "    df['material_7'] = code_list\n",
    "    df.drop(columns = encode_attributes, inplace = True)\n",
    "\n",
    "#select features to fit model\n",
    "feature_selc = ['loading', 'material_5', 'material_7', 'measurement_2', 'measurement_10', 'measurement_17', 'm_5_missing']\n",
    "for fold in range(1, 4):\n",
    "    model = joblib.load(f\"model_{fold}\")\n",
    "    test_pred.append(model.predict_proba(X_test[feature_selc])[ : , 1])\n",
    "    \n",
    "#write result into csv\n",
    "submission = pd.DataFrame({'id': test.index, 'failure': sum(test_pred)/len(test_pred)})\n",
    "submission.to_csv('submission.csv', index=False)"
   ]
  }
 ],
 "metadata": {
  "kernelspec": {
   "display_name": "base",
   "language": "python",
   "name": "python3"
  },
  "language_info": {
   "codemirror_mode": {
    "name": "ipython",
    "version": 3
   },
   "file_extension": ".py",
   "mimetype": "text/x-python",
   "name": "python",
   "nbconvert_exporter": "python",
   "pygments_lexer": "ipython3",
   "version": "3.9.7"
  },
  "orig_nbformat": 4,
  "vscode": {
   "interpreter": {
    "hash": "016d4e6fe71ff4162b1262bc18d77bbb4306e50207a2d93deee16585bc6dcbe5"
   }
  }
 },
 "nbformat": 4,
 "nbformat_minor": 2
}
